{
 "cells": [
  {
   "cell_type": "markdown",
   "id": "72a2cec7",
   "metadata": {},
   "source": [
    "# class and object"
   ]
  },
  {
   "cell_type": "code",
   "execution_count": 3,
   "id": "27de2993",
   "metadata": {},
   "outputs": [
    {
     "name": "stdout",
     "output_type": "stream",
     "text": [
      "<class '__main__.computer'>\n",
      "i5 ,16gb ,1TB\n",
      "i5 ,16gb ,1TB\n"
     ]
    }
   ],
   "source": [
    "class computer:\n",
    "    def config(self):\n",
    "        print(\"i5 ,16gb ,1TB\")\n",
    "        \n",
    "com1 = computer()\n",
    "print(type(com1))\n",
    "com1.config()\n",
    "computer.config(com1)    #another form but not in regular use"
   ]
  },
  {
   "cell_type": "code",
   "execution_count": 9,
   "id": "db1bb504",
   "metadata": {},
   "outputs": [
    {
     "name": "stdout",
     "output_type": "stream",
     "text": [
      "i5 16gb\n",
      "i3 16gb\n"
     ]
    }
   ],
   "source": [
    "class computer:\n",
    "    def __init__(self,cpu,ram):\n",
    "        self.cpu = cpu\n",
    "        self.ram = ram\n",
    "    def config(self):\n",
    "        print(self.cpu,self.ram)\n",
    "        \n",
    "com1 = computer(\"i5\",\"16gb\")\n",
    "com2 = computer(\"i3\",\"16gb\")\n",
    "\n",
    "com1.config()\n",
    "com2.config()"
   ]
  },
  {
   "cell_type": "code",
   "execution_count": 16,
   "id": "a26b1e54",
   "metadata": {},
   "outputs": [
    {
     "name": "stdout",
     "output_type": "stream",
     "text": [
      "2327503591888\n",
      "2327503566736\n"
     ]
    }
   ],
   "source": [
    "class computer:\n",
    "    pass\n",
    "        \n",
    "c1 = computer()\n",
    "c2 = computer()\n",
    "\n",
    "print(id(c1))\n",
    "print(id(c2))   # every time it allocates the different space for object when we excecute "
   ]
  },
  {
   "cell_type": "code",
   "execution_count": 23,
   "id": "55e72259",
   "metadata": {},
   "outputs": [
    {
     "name": "stdout",
     "output_type": "stream",
     "text": [
      "vg 21\n",
      "venu 30\n"
     ]
    }
   ],
   "source": [
    "class computer:\n",
    "    \n",
    "    def __init__(self):\n",
    "        self.name = \"venu\"\n",
    "        self.age = 21\n",
    "\n",
    "    def update(self,age):\n",
    "        self.age = age\n",
    "        \n",
    "c1 = computer()\n",
    "c2 = computer()\n",
    "\n",
    "c1.name = \"vg\"  # we can update by these two methods\n",
    "\n",
    "c2.update(30)\n",
    "\n",
    "print(c1.name,c1.age)\n",
    "print(c2.name,c2.age)"
   ]
  },
  {
   "cell_type": "markdown",
   "id": "e7b70874",
   "metadata": {},
   "source": [
    "# to compare two objects"
   ]
  },
  {
   "cell_type": "code",
   "execution_count": 24,
   "id": "08128dec",
   "metadata": {},
   "outputs": [
    {
     "name": "stdout",
     "output_type": "stream",
     "text": [
      "they have diff age\n",
      "vg 21\n",
      "venu 30\n"
     ]
    }
   ],
   "source": [
    "class computer:\n",
    "    \n",
    "    def __init__(self):\n",
    "        self.name = \"venu\"\n",
    "        self.age = 21\n",
    "\n",
    "    def update(self,age):\n",
    "        self.age = age\n",
    "        \n",
    "    def compare(self,other):\n",
    "        if self.age == other.age:\n",
    "            return True\n",
    "        else:\n",
    "            return False\n",
    "        \n",
    "c1 = computer()\n",
    "c2 = computer()\n",
    "\n",
    "c1.name = \"vg\"\n",
    "\n",
    "c2.update(30)\n",
    "\n",
    "if c1.compare(c2):\n",
    "    print(\"they have same age\")\n",
    "else:\n",
    "    print(\"they have diff age\")\n",
    "    \n",
    "print(c1.name,c1.age)\n",
    "print(c2.name,c2.age)"
   ]
  },
  {
   "cell_type": "code",
   "execution_count": 27,
   "id": "c15a6a22",
   "metadata": {},
   "outputs": [
    {
     "name": "stdout",
     "output_type": "stream",
     "text": [
      "vg 21\n",
      "venu 30\n",
      "they have diff age\n"
     ]
    }
   ],
   "source": [
    "class computer:\n",
    "    \n",
    "    def __init__(self):\n",
    "        self.name = \"venu\"\n",
    "        self.age = 21\n",
    "\n",
    "    def update(self,age):\n",
    "        self.age = age\n",
    "        \n",
    "    def compare(self,other):\n",
    "        if self.age == other.age:\n",
    "            print(\"they have same age\")\n",
    "        else:\n",
    "             print(\"they have diff age\")\n",
    "        \n",
    "c1 = computer()\n",
    "c2 = computer()\n",
    "\n",
    "c1.name = \"vg\"\n",
    "\n",
    "c2.update(30)\n",
    "\n",
    "\n",
    "print(c1.name,c1.age)\n",
    "print(c2.name,c2.age)\n",
    "\n",
    "c1.compare(c2)"
   ]
  },
  {
   "cell_type": "markdown",
   "id": "d26de2a9",
   "metadata": {},
   "source": [
    "# types of variables"
   ]
  },
  {
   "cell_type": "markdown",
   "id": "4276d48e",
   "metadata": {},
   "source": [
    "instance variable\n",
    "class(static) variable"
   ]
  },
  {
   "cell_type": "code",
   "execution_count": 32,
   "id": "d4372830",
   "metadata": {},
   "outputs": [
    {
     "name": "stdout",
     "output_type": "stream",
     "text": [
      "BMW 8 5\n",
      "BMW 12 5\n"
     ]
    }
   ],
   "source": [
    "class car:\n",
    "    \n",
    "    wheels = 4    #class variabe ,class namespace\n",
    "    def __init__(self):\n",
    "        self.name = \"BMW\"   # instance variable  ,instance namespace\n",
    "        self.mil = 12\n",
    "        \n",
    "c1 = car()\n",
    "c2 = car()\n",
    "\n",
    "c1.mil = 8\n",
    "\n",
    "car.wheels = 5\n",
    "\n",
    "print(c1.name,c1.mil,c1.wheels)\n",
    "print(c2.name,c2.mil,c2.wheels)\n"
   ]
  },
  {
   "cell_type": "markdown",
   "id": "f9382ba2",
   "metadata": {},
   "source": [
    "# types of methods"
   ]
  },
  {
   "cell_type": "markdown",
   "id": "6eeb8658",
   "metadata": {},
   "source": [
    "instance method\n",
    "class method\n",
    "static method"
   ]
  },
  {
   "cell_type": "code",
   "execution_count": 8,
   "id": "c918df51",
   "metadata": {},
   "outputs": [
    {
     "name": "stdout",
     "output_type": "stream",
     "text": [
      "43.333333333333336\n",
      "100\n"
     ]
    }
   ],
   "source": [
    "class student:          # instance method which uses instance variables\n",
    "    \n",
    "    school = \"jnv\"\n",
    "    \n",
    "    def __init__(self,m1,m2,m3):\n",
    "        self.m1=m1\n",
    "        self.m2=m2\n",
    "        self.m3=m3\n",
    "        \n",
    "    def avg(self):\n",
    "        return (self.m1+self.m2+self.m3)/3\n",
    "    \n",
    "    def get_m1(self):    #fetch the value and not changes the any value\n",
    "        return self.m1\n",
    "    \n",
    "    def set_m1(self,value):       # sets the value so called mutators\n",
    "        self.m1=value\n",
    "        \n",
    "s1 = student(25,45,60)\n",
    "s2 = student(30,70,90)\n",
    "\n",
    "print(s1.avg())\n",
    "\n",
    "s2.set_m1(100)\n",
    "\n",
    "print(s2.get_m1())"
   ]
  },
  {
   "cell_type": "code",
   "execution_count": 12,
   "id": "8329e37b",
   "metadata": {},
   "outputs": [
    {
     "name": "stdout",
     "output_type": "stream",
     "text": [
      "43.333333333333336\n",
      "jnv\n"
     ]
    }
   ],
   "source": [
    "class student:          #class method which uses class variables\n",
    "    \n",
    "    school = \"jnv\"\n",
    "    \n",
    "    def __init__(self,m1,m2,m3):\n",
    "        self.m1=m1\n",
    "        self.m2=m2\n",
    "        self.m3=m3\n",
    "        \n",
    "    def avg(self):\n",
    "        return (self.m1+self.m2+self.m3)/3\n",
    "    \n",
    "    @classmethod         # decorators\n",
    "    def info(cls):\n",
    "        return cls.school\n",
    "    \n",
    "s1 = student(25,45,60)\n",
    "s2 = student(30,70,90)\n",
    "\n",
    "print(s1.avg())\n",
    "print(student.info())    #we can use s1.info()  but class variable is not confined to single object\n"
   ]
  },
  {
   "cell_type": "code",
   "execution_count": 23,
   "id": "72628a39",
   "metadata": {},
   "outputs": [
    {
     "name": "stdout",
     "output_type": "stream",
     "text": [
      "43.333333333333336\n",
      "jnv\n",
      "you can excel in this particular school\n"
     ]
    }
   ],
   "source": [
    "class student:          #static method which doesn't uses any of the class or instance variables\n",
    "    \n",
    "    school = \"jnv\"\n",
    "    \n",
    "    def __init__(self,m1,m2,m3):\n",
    "        self.m1=m1\n",
    "        self.m2=m2\n",
    "        self.m3=m3\n",
    "        \n",
    "    def avg(self):\n",
    "        return (self.m1+self.m2+self.m3)/3\n",
    "    \n",
    "    @classmethod         # decorators\n",
    "    def getschool(cls):\n",
    "        return cls.school\n",
    "    \n",
    "    @staticmethod         #decorator\n",
    "    def info():\n",
    "        print(\"you can excel in this particular school\")\n",
    "    \n",
    "s1 = student(25,45,60)\n",
    "s2 = student(30,70,90)\n",
    "\n",
    "print(s1.avg())\n",
    "print(student.getschool())    #we can use s1.info()  but class variable is not confined to single object\n",
    "student.info()"
   ]
  },
  {
   "cell_type": "markdown",
   "id": "5be93c9f",
   "metadata": {},
   "source": [
    "# inner class"
   ]
  },
  {
   "cell_type": "code",
   "execution_count": 46,
   "id": "6d12b558",
   "metadata": {},
   "outputs": [
    {
     "name": "stdout",
     "output_type": "stream",
     "text": [
      "venu 56\n",
      "venu 56\n",
      "dell i5 8\n"
     ]
    }
   ],
   "source": [
    "class student:\n",
    "    \n",
    "    def __init__(self,name,roll_no):\n",
    "        self.name=name\n",
    "        self.roll_no=roll_no\n",
    "        self.lp=self.laptop()  #object of inner class can be created inside the outer class\n",
    "        \n",
    "    def show(self):\n",
    "        print(self.name,self.roll_no)\n",
    "        self.lp.show()         #calling the method of inner class in method of outer class can excecute both\n",
    "     \n",
    "    class laptop:\n",
    "    \n",
    "        def __init__(self):\n",
    "            self.brand=\"dell\"\n",
    "            self.cpu=\"i5\"\n",
    "            self.ram=8\n",
    "\n",
    "        def show(self):\n",
    "            print(self.brand,self.cpu,self.ram)\n",
    "        \n",
    "    \n",
    "        \n",
    "s1=student('venu',56)\n",
    "s2=student('bhooma',11)\n",
    "\n",
    "print(s1.name,s1.roll_no)   # looking lengthy and odd so\n",
    "\n",
    "s1.show()"
   ]
  },
  {
   "cell_type": "markdown",
   "id": "c92c303c",
   "metadata": {},
   "source": [
    "# inheritance"
   ]
  },
  {
   "cell_type": "markdown",
   "id": "c7af3a73",
   "metadata": {},
   "source": [
    "single level inheritance\n",
    "multi level inheritance\n",
    "multiple inheritance"
   ]
  },
  {
   "cell_type": "code",
   "execution_count": 55,
   "id": "6ca2ab36",
   "metadata": {},
   "outputs": [
    {
     "name": "stdout",
     "output_type": "stream",
     "text": [
      "feature 1 is working!!\n",
      "feature 2 is working!!\n",
      "feature 3 is working!!\n",
      "feature 4 is working!!\n"
     ]
    }
   ],
   "source": [
    "class A:                     #single level inheritance\n",
    "    def f1(self):\n",
    "        print(\"feature 1 is working!!\")\n",
    "        \n",
    "    def f2(self):\n",
    "        print(\"feature 2 is working!!\")\n",
    "\n",
    "class B(A):\n",
    "    def f3(self):\n",
    "        print(\"feature 3 is working!!\")\n",
    "    \n",
    "    def f4(self):\n",
    "        print(\"feature 4 is working!!\")\n",
    "        \n",
    "    \n",
    "a = B()\n",
    "\n",
    "a.f1()\n",
    "a.f2()\n",
    "a.f3()\n",
    "a.f4()"
   ]
  },
  {
   "cell_type": "code",
   "execution_count": 7,
   "id": "94f09108",
   "metadata": {},
   "outputs": [
    {
     "name": "stdout",
     "output_type": "stream",
     "text": [
      "feature 1 is working!!\n",
      "feature 2 is working!!\n",
      "feature 3 is working!!\n",
      "feature 4 is working!!\n",
      "feature 5 is working!!\n",
      "feature 6 is working!!\n"
     ]
    }
   ],
   "source": [
    "class A:                 #multi level inheritance\n",
    "    def f1(self):\n",
    "        print(\"feature 1 is working!!\")\n",
    "        \n",
    "    def f2(self):\n",
    "        print(\"feature 2 is working!!\")\n",
    "\n",
    "class B(A):\n",
    "    def f3(self):\n",
    "        print(\"feature 3 is working!!\")\n",
    "    \n",
    "    def f4(self):\n",
    "        print(\"feature 4 is working!!\")\n",
    "        \n",
    "class C(B):\n",
    "    def f5(self):\n",
    "        print(\"feature 5 is working!!\")\n",
    "    \n",
    "    def f6(self):\n",
    "        print(\"feature 6 is working!!\")\n",
    "        \n",
    "    \n",
    "a = C()\n",
    "\n",
    "a.f1()\n",
    "a.f2()\n",
    "a.f3()\n",
    "a.f4()\n",
    "a.f5()\n",
    "a.f6()"
   ]
  },
  {
   "cell_type": "code",
   "execution_count": 8,
   "id": "4248e78d",
   "metadata": {},
   "outputs": [
    {
     "name": "stdout",
     "output_type": "stream",
     "text": [
      "feature 1 is working!!\n",
      "feature 2 is working!!\n",
      "feature 3 is working!!\n",
      "feature 4 is working!!\n",
      "feature 5 is working!!\n",
      "feature 6 is working!!\n"
     ]
    }
   ],
   "source": [
    "class A:                 #multiple inheritance\n",
    "    def f1(self):\n",
    "        print(\"feature 1 is working!!\")\n",
    "        \n",
    "    def f2(self):\n",
    "        print(\"feature 2 is working!!\")\n",
    "\n",
    "class B:\n",
    "    def f3(self):\n",
    "        print(\"feature 3 is working!!\")\n",
    "    \n",
    "    def f4(self):\n",
    "        print(\"feature 4 is working!!\")\n",
    "        \n",
    "class C(A,B):\n",
    "    def f5(self):\n",
    "        print(\"feature 5 is working!!\")\n",
    "    \n",
    "    def f6(self):\n",
    "        print(\"feature 6 is working!!\")\n",
    "        \n",
    "    \n",
    "a = C()\n",
    "\n",
    "a.f1()\n",
    "a.f2()\n",
    "a.f3()\n",
    "a.f4()\n",
    "a.f5()\n",
    "a.f6()"
   ]
  },
  {
   "cell_type": "markdown",
   "id": "d09a7f96",
   "metadata": {},
   "source": [
    "# constructor in inheritance"
   ]
  },
  {
   "cell_type": "code",
   "execution_count": 10,
   "id": "ae2bfcd6",
   "metadata": {},
   "outputs": [
    {
     "name": "stdout",
     "output_type": "stream",
     "text": [
      "-----VG-----\n"
     ]
    }
   ],
   "source": [
    "class A:               #when we create object for subclass it also calls for constructor of superclass\n",
    "    \n",
    "    def __init__(self):\n",
    "        print(\"-----VG-----\")\n",
    "    \n",
    "\n",
    "class B(A):\n",
    "    \n",
    "    def f3(self):\n",
    "        print(\"feature 3 is working!!\")\n",
    "    \n",
    "    def f4(self):\n",
    "        print(\"feature 4 is working!!\")\n",
    "        \n",
    "    \n",
    "a = B()"
   ]
  },
  {
   "cell_type": "code",
   "execution_count": 11,
   "id": "7e857ce4",
   "metadata": {},
   "outputs": [
    {
     "name": "stdout",
     "output_type": "stream",
     "text": [
      "-----BK-----\n"
     ]
    }
   ],
   "source": [
    "class A:\n",
    "    \n",
    "    def __init__(self):\n",
    "        print(\"-----VG-----\")\n",
    "    \n",
    "\n",
    "class B(A):\n",
    "    \n",
    "    def __init__(self):\n",
    "        print(\"-----BK-----\")\n",
    "        \n",
    "    def f3(self):\n",
    "        print(\"feature 3 is working!!\")\n",
    "    \n",
    "        \n",
    "a = B()\n",
    "\n",
    "#when we create object for subclass it will first try to find init of subclass if it is not found then it will call init \n",
    "#of superclass"
   ]
  },
  {
   "cell_type": "code",
   "execution_count": 15,
   "id": "963edc30",
   "metadata": {},
   "outputs": [
    {
     "name": "stdout",
     "output_type": "stream",
     "text": [
      "-----VG-----\n",
      "-----BK-----\n"
     ]
    }
   ],
   "source": [
    "# to access init of superclass when both the super and subclasses have init method\n",
    "class A:\n",
    "    \n",
    "    def __init__(self):\n",
    "        print(\"-----VG-----\")\n",
    "    \n",
    "\n",
    "class B(A):\n",
    "    \n",
    "    def __init__(self):\n",
    "        super().__init__()\n",
    "        print(\"-----BK-----\")\n",
    "       \n",
    "        \n",
    "a = B()"
   ]
  },
  {
   "cell_type": "markdown",
   "id": "4ac1ef1d",
   "metadata": {},
   "source": [
    "# method resolution order(MRO)"
   ]
  },
  {
   "cell_type": "code",
   "execution_count": 16,
   "id": "9e5cb75d",
   "metadata": {},
   "outputs": [
    {
     "name": "stdout",
     "output_type": "stream",
     "text": [
      "-----VG-----\n",
      "-----DR-----\n"
     ]
    }
   ],
   "source": [
    "# whenever we deal with multiple inheritance it prefers from left to right\n",
    "class A:\n",
    "    \n",
    "    def __init__(self):                       # for init method\n",
    "        print(\"-----VG-----\")\n",
    "    \n",
    "\n",
    "class B:\n",
    "    \n",
    "    def __init__(self):\n",
    "        super().__init__()\n",
    "        print(\"-----BK-----\")\n",
    "\n",
    "class C(A,B):\n",
    "    \n",
    "    def __init__(self):\n",
    "        super().__init__()\n",
    "        print(\"-----DR-----\")\n",
    "       \n",
    "        \n",
    "a = C()"
   ]
  },
  {
   "cell_type": "code",
   "execution_count": 19,
   "id": "89b7dd58",
   "metadata": {},
   "outputs": [
    {
     "name": "stdout",
     "output_type": "stream",
     "text": [
      "feature 1-A is working!!\n"
     ]
    }
   ],
   "source": [
    "class A:                 #multiple inheritance with MRO\n",
    "    def f1(self):\n",
    "        print(\"feature 1-A is working!!\")\n",
    "        \n",
    "    def f2(self):                                  #for all the behavioural methods\n",
    "        print(\"feature 2 is working!!\")\n",
    "\n",
    "class B:\n",
    "    def f1(self):\n",
    "        print(\"feature 1-B is working!!\")\n",
    "    \n",
    "    def f4(self):\n",
    "        print(\"feature 4 is working!!\")\n",
    "        \n",
    "class C(A,B):\n",
    "    def f5(self):\n",
    "        print(\"feature 5 is working!!\")\n",
    "    \n",
    "    def f6(self):\n",
    "        print(\"feature 6 is working!!\")\n",
    "        \n",
    "    \n",
    "a = C()\n",
    "a.f1()"
   ]
  },
  {
   "cell_type": "code",
   "execution_count": 24,
   "id": "0100ee09",
   "metadata": {},
   "outputs": [
    {
     "name": "stdout",
     "output_type": "stream",
     "text": [
      "init A\n",
      "init C\n",
      "feature 1-A is working!!\n",
      "feature 1-A is working!!\n",
      "feature 6 is working!!\n"
     ]
    }
   ],
   "source": [
    "class A:                 #multiple inheritance with MRO\n",
    "    \n",
    "    def __init__(self):                   # combining both\n",
    "        print(\"init A\")\n",
    "    def f1(self):\n",
    "        print(\"feature 1-A is working!!\")\n",
    "\n",
    "class B:\n",
    "    \n",
    "    def __init__(self):\n",
    "        print(\"init B\")\n",
    "    def f1(self):\n",
    "        print(\"feature 1-B is working!!\")\n",
    "        \n",
    "class C(A,B):\n",
    "    def __init__(self):\n",
    "        super().__init__()\n",
    "        print(\"init C\")\n",
    "    \n",
    "    def f6(self):\n",
    "        super().f1()\n",
    "        print(\"feature 6 is working!!\")\n",
    "        \n",
    "    \n",
    "a = C()\n",
    "a.f1()\n",
    "a.f6()"
   ]
  },
  {
   "cell_type": "markdown",
   "id": "aaedabe3",
   "metadata": {},
   "source": [
    "# polymorphism"
   ]
  },
  {
   "cell_type": "markdown",
   "id": "a401a06f",
   "metadata": {},
   "source": [
    "duck typing\n",
    "operator overloading\n",
    "method overloading\n",
    "method overriding"
   ]
  },
  {
   "cell_type": "markdown",
   "id": "3f2310eb",
   "metadata": {},
   "source": [
    "# Duck typing"
   ]
  },
  {
   "cell_type": "code",
   "execution_count": 28,
   "id": "5f8ba323",
   "metadata": {},
   "outputs": [
    {
     "name": "stdout",
     "output_type": "stream",
     "text": [
      "compiling\n",
      "running\n",
      "spell checker\n",
      "convention check\n",
      "compiling\n",
      "running\n"
     ]
    }
   ],
   "source": [
    "class PyCharm:\n",
    "    \n",
    "    def execute(self):\n",
    "        print(\"compiling\")\n",
    "        print(\"running\")\n",
    "        \n",
    "class MyEditor:\n",
    "    \n",
    "    def execute(self):\n",
    "        print(\"compiling\")\n",
    "        print(\"running\")\n",
    "        print(\"spell checker\")\n",
    "        print(\"convention check\")\n",
    "        \n",
    "class laptop:\n",
    "    \n",
    "    def code(self,ide):\n",
    "        ide.execute()\n",
    "\n",
    "d = PyCharm()\n",
    "r = MyEditor()\n",
    "v = laptop()\n",
    "v.code(r)\n",
    "v.code(d)"
   ]
  },
  {
   "cell_type": "markdown",
   "id": "5263766f",
   "metadata": {},
   "source": [
    "# operator overloading"
   ]
  },
  {
   "cell_type": "code",
   "execution_count": 30,
   "id": "b6075ccb",
   "metadata": {},
   "outputs": [
    {
     "name": "stdout",
     "output_type": "stream",
     "text": [
      "30\n",
      "-10\n",
      "(0, 10)\n",
      "200\n"
     ]
    }
   ],
   "source": [
    "a = 10\n",
    "b = 20\n",
    "\n",
    "print(int.__add__(a,b))\n",
    "print(int.__sub__(a,b))\n",
    "print(int.__divmod__(a,b))\n",
    "print(int.__mul__(a,b))"
   ]
  },
  {
   "cell_type": "code",
   "execution_count": 31,
   "id": "1a2e88df",
   "metadata": {},
   "outputs": [
    {
     "ename": "TypeError",
     "evalue": "unsupported operand type(s) for +: 'student' and 'student'",
     "output_type": "error",
     "traceback": [
      "\u001b[1;31m---------------------------------------------------------------------------\u001b[0m",
      "\u001b[1;31mTypeError\u001b[0m                                 Traceback (most recent call last)",
      "\u001b[1;32m~\\AppData\\Local\\Temp\\ipykernel_5160\\1298943095.py\u001b[0m in \u001b[0;36m<module>\u001b[1;34m\u001b[0m\n\u001b[0;32m      9\u001b[0m \u001b[0mst2\u001b[0m \u001b[1;33m=\u001b[0m \u001b[0mstudent\u001b[0m\u001b[1;33m(\u001b[0m\u001b[1;36m30\u001b[0m\u001b[1;33m,\u001b[0m\u001b[1;36m20\u001b[0m\u001b[1;33m)\u001b[0m\u001b[1;33m\u001b[0m\u001b[1;33m\u001b[0m\u001b[0m\n\u001b[0;32m     10\u001b[0m \u001b[1;33m\u001b[0m\u001b[0m\n\u001b[1;32m---> 11\u001b[1;33m \u001b[0ms3\u001b[0m \u001b[1;33m=\u001b[0m \u001b[0mst1\u001b[0m\u001b[1;33m+\u001b[0m\u001b[0mst2\u001b[0m\u001b[1;33m\u001b[0m\u001b[1;33m\u001b[0m\u001b[0m\n\u001b[0m",
      "\u001b[1;31mTypeError\u001b[0m: unsupported operand type(s) for +: 'student' and 'student'"
     ]
    }
   ],
   "source": [
    "class student:\n",
    "    \n",
    "    def __init__(self,m1,m2):\n",
    "        \n",
    "        self.m1 = m1\n",
    "        self.m2 = m2\n",
    "        \n",
    "st1 = student(10,20)\n",
    "st2 = student(30,20)\n",
    "\n",
    "s3 = st1+st2"
   ]
  },
  {
   "cell_type": "code",
   "execution_count": 36,
   "id": "586f7579",
   "metadata": {},
   "outputs": [
    {
     "name": "stdout",
     "output_type": "stream",
     "text": [
      "40\n",
      "s2 wins\n",
      "10 20\n",
      "30 20\n"
     ]
    }
   ],
   "source": [
    "class student:\n",
    "    \n",
    "    def __init__(self,m1,m2):\n",
    "        \n",
    "        self.m1 = m1\n",
    "        self.m2 = m2\n",
    "        \n",
    "    def __add__(self,others):\n",
    "        m1 = self.m1 + others.m1\n",
    "        m2 = self.m2 + others.m2\n",
    "        s3 = student(m1,m2)\n",
    "        return s3\n",
    "    \n",
    "    def __gt__(self,others):\n",
    "        r1 = self.m1 + self.m2\n",
    "        r2 = others.m1 + others.m2\n",
    "        if r1 > r2:\n",
    "            return True\n",
    "        else:\n",
    "            return False\n",
    "        \n",
    "    def __str__(self):\n",
    "        return '{} {}'.format(self.m1,self.m2)\n",
    "    \n",
    "        \n",
    "s1 = student(10,20)\n",
    "s2 = student(30,20)\n",
    "s3 = s1 + s2\n",
    "print(s3.m1)\n",
    "\n",
    "if s1>s2:\n",
    "    print(\"s1 wins\")\n",
    "else:\n",
    "    print(\"s2 wins\")\n",
    "    \n",
    "print(s1)\n",
    "print(s2.__str__())"
   ]
  },
  {
   "cell_type": "markdown",
   "id": "16a715ee",
   "metadata": {},
   "source": [
    "# method overloading"
   ]
  },
  {
   "cell_type": "code",
   "execution_count": 38,
   "id": "89f9f686",
   "metadata": {},
   "outputs": [
    {
     "data": {
      "text/plain": [
       "10"
      ]
     },
     "execution_count": 38,
     "metadata": {},
     "output_type": "execute_result"
    }
   ],
   "source": [
    "class student:\n",
    "    \n",
    "    def __init__(self):\n",
    "        self.m1=30\n",
    "        self.m2=20\n",
    "        \n",
    "    def sum(self,a=None,b=None,c=None):\n",
    "        if a != None and b != None and c != None:\n",
    "            s3 = a+b c\n",
    "        elif a != None and b != None:\n",
    "            s3 = a+b\n",
    "        else:\n",
    "            s3 = a\n",
    "        return s3\n",
    "    \n",
    "a = student()\n",
    "a.sum(2,5,3)"
   ]
  },
  {
   "cell_type": "markdown",
   "id": "ddc0c903",
   "metadata": {},
   "source": [
    "# method overriding"
   ]
  },
  {
   "cell_type": "code",
   "execution_count": 44,
   "id": "a1737fff",
   "metadata": {},
   "outputs": [
    {
     "name": "stdout",
     "output_type": "stream",
     "text": [
      "in B show\n"
     ]
    }
   ],
   "source": [
    "class A:\n",
    "    \n",
    "    def show(self):\n",
    "        print(\"in A show\")\n",
    "        \n",
    "class B(A):\n",
    "    def show(self):\n",
    "        print(\"in B show\")   # class B's Method overrides the class A's method\n",
    "\n",
    "a = B()\n",
    "a.show()"
   ]
  }
 ],
 "metadata": {
  "kernelspec": {
   "display_name": "Python 3 (ipykernel)",
   "language": "python",
   "name": "python3"
  },
  "language_info": {
   "codemirror_mode": {
    "name": "ipython",
    "version": 3
   },
   "file_extension": ".py",
   "mimetype": "text/x-python",
   "name": "python",
   "nbconvert_exporter": "python",
   "pygments_lexer": "ipython3",
   "version": "3.9.13"
  }
 },
 "nbformat": 4,
 "nbformat_minor": 5
}
