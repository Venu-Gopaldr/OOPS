{
 "cells": [
  {
   "cell_type": "code",
   "execution_count": 6,
   "id": "3f3af47a",
   "metadata": {},
   "outputs": [
    {
     "name": "stdout",
     "output_type": "stream",
     "text": [
      "venu 21\n",
      "hp i5 8\n"
     ]
    }
   ],
   "source": [
    "class student:\n",
    "    \n",
    "    def __init__(self,name,age):\n",
    "        self.name=name\n",
    "        self.age=age\n",
    "        self.lap=self.laptop()\n",
    "        \n",
    "    def show(self):\n",
    "        print(self.name,self.age)\n",
    "        self.lap.show1()\n",
    "        \n",
    "    class laptop:\n",
    "        \n",
    "        def __init__(self):\n",
    "            self.brand=\"hp\"\n",
    "            self.cpu=\"i5\"\n",
    "            self.ram=8\n",
    "        def show1(self):\n",
    "            print(self.brand,self.cpu,self.ram)\n",
    "            \n",
    "s1=student(\"venu\",21)\n",
    "\n",
    "s1.show()\n"
   ]
  },
  {
   "cell_type": "code",
   "execution_count": null,
   "id": "bd04ffad",
   "metadata": {},
   "outputs": [],
   "source": [
    "class "
   ]
  }
 ],
 "metadata": {
  "kernelspec": {
   "display_name": "Python 3 (ipykernel)",
   "language": "python",
   "name": "python3"
  },
  "language_info": {
   "codemirror_mode": {
    "name": "ipython",
    "version": 3
   },
   "file_extension": ".py",
   "mimetype": "text/x-python",
   "name": "python",
   "nbconvert_exporter": "python",
   "pygments_lexer": "ipython3",
   "version": "3.10.9"
  }
 },
 "nbformat": 4,
 "nbformat_minor": 5
}
