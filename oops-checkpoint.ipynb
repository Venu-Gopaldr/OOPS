{
 "cells": [
  {
   "cell_type": "code",
   "execution_count": null,
   "id": "23cbaf28",
   "metadata": {},
   "outputs": [],
   "source": [
    "int \n",
    "string\n",
    "float\n",
    "boolean\n",
    "complex"
   ]
  },
  {
   "cell_type": "code",
   "execution_count": 1,
   "id": "9d4061b9",
   "metadata": {},
   "outputs": [
    {
     "name": "stdout",
     "output_type": "stream",
     "text": [
      "<class 'int'>\n"
     ]
    }
   ],
   "source": [
    "a = 10\n",
    "print(type(a))"
   ]
  },
  {
   "cell_type": "code",
   "execution_count": 3,
   "id": "f3171d35",
   "metadata": {},
   "outputs": [
    {
     "name": "stdout",
     "output_type": "stream",
     "text": [
      "<class '__main__.Computer'>\n",
      "<__main__.Computer object at 0x00000218A5724070>\n"
     ]
    }
   ],
   "source": [
    "class Computer: #class\n",
    "    \n",
    "    def config(self): #method\n",
    "        print(\"i5 16gb 1TB\")\n",
    "        \n",
    "        \n",
    "comp1 = Computer() #object\n",
    "\n",
    "print(type(comp1))\n",
    "print(comp1)"
   ]
  },
  {
   "cell_type": "code",
   "execution_count": 4,
   "id": "1081b8c6",
   "metadata": {},
   "outputs": [
    {
     "ename": "NameError",
     "evalue": "name 'config' is not defined",
     "output_type": "error",
     "traceback": [
      "\u001b[1;31m---------------------------------------------------------------------------\u001b[0m",
      "\u001b[1;31mNameError\u001b[0m                                 Traceback (most recent call last)",
      "\u001b[1;32m~\\AppData\\Local\\Temp\\ipykernel_10360\\3781202484.py\u001b[0m in \u001b[0;36m<module>\u001b[1;34m\u001b[0m\n\u001b[0;32m      7\u001b[0m \u001b[0mcomp1\u001b[0m \u001b[1;33m=\u001b[0m \u001b[0mComputer\u001b[0m\u001b[1;33m(\u001b[0m\u001b[1;33m)\u001b[0m \u001b[1;31m#object\u001b[0m\u001b[1;33m\u001b[0m\u001b[1;33m\u001b[0m\u001b[0m\n\u001b[0;32m      8\u001b[0m \u001b[1;33m\u001b[0m\u001b[0m\n\u001b[1;32m----> 9\u001b[1;33m \u001b[0mconfig\u001b[0m\u001b[1;33m(\u001b[0m\u001b[1;33m)\u001b[0m\u001b[1;33m\u001b[0m\u001b[1;33m\u001b[0m\u001b[0m\n\u001b[0m",
      "\u001b[1;31mNameError\u001b[0m: name 'config' is not defined"
     ]
    }
   ],
   "source": [
    "class Computer: #class\n",
    "    \n",
    "    def config(self): #method\n",
    "        print(\"i5 16gb 1TB\")\n",
    "        \n",
    "        \n",
    "comp1 = Computer() #object\n",
    "\n",
    "config()"
   ]
  },
  {
   "cell_type": "code",
   "execution_count": 5,
   "id": "0864e1de",
   "metadata": {},
   "outputs": [
    {
     "ename": "TypeError",
     "evalue": "add() missing 1 required positional argument: 'b'",
     "output_type": "error",
     "traceback": [
      "\u001b[1;31m---------------------------------------------------------------------------\u001b[0m",
      "\u001b[1;31mTypeError\u001b[0m                                 Traceback (most recent call last)",
      "\u001b[1;32m~\\AppData\\Local\\Temp\\ipykernel_10360\\1238020599.py\u001b[0m in \u001b[0;36m<module>\u001b[1;34m\u001b[0m\n\u001b[0;32m      4\u001b[0m \u001b[0ma\u001b[0m \u001b[1;33m=\u001b[0m \u001b[1;36m1\u001b[0m\u001b[1;33m\u001b[0m\u001b[1;33m\u001b[0m\u001b[0m\n\u001b[0;32m      5\u001b[0m \u001b[0mb\u001b[0m \u001b[1;33m=\u001b[0m \u001b[1;36m2\u001b[0m\u001b[1;33m\u001b[0m\u001b[1;33m\u001b[0m\u001b[0m\n\u001b[1;32m----> 6\u001b[1;33m \u001b[0madd\u001b[0m\u001b[1;33m(\u001b[0m\u001b[0ma\u001b[0m\u001b[1;33m)\u001b[0m\u001b[1;33m\u001b[0m\u001b[1;33m\u001b[0m\u001b[0m\n\u001b[0m",
      "\u001b[1;31mTypeError\u001b[0m: add() missing 1 required positional argument: 'b'"
     ]
    }
   ],
   "source": [
    "def add(a,b):\n",
    "    c = a+b\n",
    "    return c\n",
    "a = 1\n",
    "b = 2\n",
    "add(a)"
   ]
  },
  {
   "cell_type": "code",
   "execution_count": 6,
   "id": "170793c4",
   "metadata": {},
   "outputs": [
    {
     "name": "stdout",
     "output_type": "stream",
     "text": [
      "i5 16gb 1TB\n"
     ]
    }
   ],
   "source": [
    "class Computer: #class\n",
    "    \n",
    "    def config(self): #method\n",
    "        print(\"i5 16gb 1TB\")\n",
    "        \n",
    "        \n",
    "comp1 = Computer() #object\n",
    "\n",
    "Computer.config(comp1)"
   ]
  },
  {
   "cell_type": "code",
   "execution_count": 7,
   "id": "a86712e2",
   "metadata": {},
   "outputs": [
    {
     "name": "stdout",
     "output_type": "stream",
     "text": [
      "i5 16gb 1TB\n",
      "i5 16gb 1TB\n"
     ]
    }
   ],
   "source": [
    "class Computer: #class\n",
    "    \n",
    "    def config(self): #method\n",
    "        print(\"i5 16gb 1TB\")\n",
    "        \n",
    "        \n",
    "comp1 = Computer()  #object\n",
    "comp2 = Computer()\n",
    "\n",
    "Computer.config(comp1)\n",
    "Computer.config(comp2)"
   ]
  },
  {
   "cell_type": "code",
   "execution_count": 8,
   "id": "29f59b4e",
   "metadata": {},
   "outputs": [
    {
     "name": "stdout",
     "output_type": "stream",
     "text": [
      "i5 16gb 1TB\n",
      "i5 16gb 1TB\n"
     ]
    }
   ],
   "source": [
    "class Computer: #class\n",
    "    \n",
    "    def config(self): #method\n",
    "        print(\"i5 16gb 1TB\")\n",
    "        \n",
    "        \n",
    "comp1 = Computer() #object\n",
    "comp2 = Computer()\n",
    "\n",
    "\n",
    "comp1.config()\n",
    "comp2.config()"
   ]
  },
  {
   "cell_type": "code",
   "execution_count": 9,
   "id": "f15f5327",
   "metadata": {
    "scrolled": true
   },
   "outputs": [
    {
     "name": "stdout",
     "output_type": "stream",
     "text": [
      "computer\n",
      "computer\n",
      "i5 16gb 1TB\n",
      "i5 16gb 1TB\n"
     ]
    }
   ],
   "source": [
    "class Computer: #class\n",
    "    \n",
    "    def __init__(self):\n",
    "        print(\"computer\")\n",
    "        \n",
    "    def config(self): #method\n",
    "        print(\"i5 16gb 1TB\")\n",
    "        \n",
    "        \n",
    "comp1 = Computer() #object\n",
    "comp2 = Computer()\n",
    "\n",
    "comp1.config()\n",
    "comp2.config()"
   ]
  },
  {
   "cell_type": "code",
   "execution_count": 10,
   "id": "346db772",
   "metadata": {},
   "outputs": [
    {
     "name": "stdout",
     "output_type": "stream",
     "text": [
      "config is i5 16gb\n",
      "config is i3 16gb\n"
     ]
    }
   ],
   "source": [
    "class Computer: #class\n",
    "    \n",
    "    def __init__(self,cpu,ram):\n",
    "        \n",
    "        self.cpu = cpu\n",
    "        self.ram = ram\n",
    "        \n",
    "    def config(self): #method\n",
    "        print(\"config is\",self.cpu,self.ram)\n",
    "        \n",
    "\n",
    "        \n",
    "comp1 = Computer('i5','16gb') #object\n",
    "\n",
    "comp2 = Computer('i3','16gb')\n",
    "\n",
    "\n",
    "comp1.config()\n",
    "comp2.config()"
   ]
  },
  {
   "cell_type": "code",
   "execution_count": 1,
   "id": "2d163ddf",
   "metadata": {},
   "outputs": [
    {
     "name": "stdout",
     "output_type": "stream",
     "text": [
      "student name and usn are as follows: venu 4ub20cs056\n",
      "student name and usn are as follows: bhooma 4ub20cs011\n"
     ]
    }
   ],
   "source": [
    "class student:\n",
    "    def __init__(self,name,usn):\n",
    "        self.name=name\n",
    "        self.usn=usn\n",
    "    def details(self):\n",
    "        print(\"student name and usn are as follows:\",self.name,self.usn)\n",
    "    \n",
    "stu1 = student(\"venu\",'4ub20cs056')\n",
    "stu2 =student(\"bhooma\",'4ub20cs011')\n",
    "\n",
    "stu1.details()\n",
    "stu2.details()"
   ]
  },
  {
   "cell_type": "code",
   "execution_count": 14,
   "id": "fd465587",
   "metadata": {},
   "outputs": [
    {
     "name": "stdout",
     "output_type": "stream",
     "text": [
      "details of employee are as follows-> employee id: 11 salary: 100000\n",
      "details of employee are as follows-> employee id: 56 salary: 200000\n"
     ]
    }
   ],
   "source": [
    "class employee:\n",
    "    def __init__(self,id,salary):\n",
    "        self.id=id\n",
    "        self.salary=salary\n",
    "    def details(self):\n",
    "        print(\"details of employee are as follows-> employee id:\",self.id,\"salary:\",self.salary)\n",
    "        \n",
    "emp1 = employee(11,100000)\n",
    "emp2 = employee(56,200000)\n",
    "\n",
    "emp1.details()\n",
    "emp2.details()\n"
   ]
  },
  {
   "cell_type": "code",
   "execution_count": 4,
   "id": "536e4b08",
   "metadata": {},
   "outputs": [
    {
     "name": "stdout",
     "output_type": "stream",
     "text": [
      "fan costs of - 5000 and have  3 number of petals\n",
      "fan costs of - 8000 and have  4 number of petals\n"
     ]
    }
   ],
   "source": [
    "class fan:\n",
    "    def __init__(self,cost,petals):\n",
    "        self.cost = cost\n",
    "        self.petals = petals\n",
    "    def descr(self):\n",
    "        print(\"fan costs of -\",self.cost,\"and have \",self.petals,\"number of petals\")\n",
    "\n",
    "ob1 = fan(5000,3)\n",
    "ob2 = fan(8000,4)\n",
    "\n",
    "ob1.descr()\n",
    "ob2.descr()"
   ]
  },
  {
   "cell_type": "code",
   "execution_count": 8,
   "id": "f729bc23",
   "metadata": {},
   "outputs": [
    {
     "name": "stdout",
     "output_type": "stream",
     "text": [
      "branch ->  cse \n",
      "fee ->  50000 \n",
      "\n",
      "\n",
      "branch ->  ece \n",
      "fee ->  40000 \n",
      "\n",
      "\n",
      "branch ->  cvl \n",
      "fee ->  30000 \n",
      "\n",
      "\n"
     ]
    }
   ],
   "source": [
    "class college:\n",
    "    def __init__(self,branch,fee):\n",
    "        self.branch=branch\n",
    "        self.fee=fee\n",
    "    def info(self):\n",
    "        print(\"branch -> \",self.branch,\"\\nfee -> \",self.fee,\"\\n\\n\")\n",
    "        \n",
    "ob1 = college('cse',50000)\n",
    "ob2 = college('ece',40000)\n",
    "ob3 = college('cvl',30000)\n",
    "\n",
    "ob1.info()\n",
    "ob2.info()\n",
    "ob3.info()"
   ]
  },
  {
   "cell_type": "code",
   "execution_count": 10,
   "id": "eabb5dae",
   "metadata": {},
   "outputs": [
    {
     "name": "stdout",
     "output_type": "stream",
     "text": [
      "<class '__main__.computer'>\n",
      "1429382941232\n"
     ]
    }
   ],
   "source": [
    "class computer():\n",
    "    pass\n",
    "\n",
    "c = computer()\n",
    "\n",
    "print(type(c))\n",
    "print(id(c))"
   ]
  },
  {
   "cell_type": "code",
   "execution_count": 14,
   "id": "b6e0f18b",
   "metadata": {},
   "outputs": [
    {
     "name": "stdout",
     "output_type": "stream",
     "text": [
      "bhooma\n",
      "18\n"
     ]
    }
   ],
   "source": [
    "class student:\n",
    "    def __init__(self):\n",
    "        self.name=\"venu\"\n",
    "        self.age=21\n",
    "        \n",
    "    def update(self):\n",
    "        self.name=\"bhooma\"\n",
    "        self.age=18\n",
    "        \n",
    "c = student()  #object\n",
    "c1 = student()\n",
    "\n",
    "c1.name=\"child\"\n",
    "c1.age=12\n",
    "\n",
    "c1.update()\n",
    "\n",
    "\n",
    "print(c1.name)\n",
    "print(c1.age)\n"
   ]
  },
  {
   "cell_type": "code",
   "execution_count": 15,
   "id": "1fe2b1e2",
   "metadata": {},
   "outputs": [
    {
     "name": "stdout",
     "output_type": "stream",
     "text": [
      "not same\n",
      "21\n",
      "18\n"
     ]
    }
   ],
   "source": [
    "class student:\n",
    "    def __init__(self):\n",
    "        self.name=\"venu\"\n",
    "        self.age=21\n",
    "        \n",
    "    def update(self):\n",
    "        self.age=18\n",
    "        \n",
    "    def compare(self,other):\n",
    "        if self.age == other.age:\n",
    "            return True\n",
    "        else:\n",
    "            return False\n",
    "        \n",
    "c = student()  #object\n",
    "c1 = student()\n",
    "\n",
    "c1.name=\"child\"\n",
    "c1.age=12\n",
    "\n",
    "c1.update()\n",
    "\n",
    "\n",
    "if c.compare(c1):\n",
    "    print(\"same\")\n",
    "else:\n",
    "    print(\"not same\")\n",
    "    \n",
    "print(c.age)\n",
    "print(c1.age)\n"
   ]
  },
  {
   "cell_type": "code",
   "execution_count": 18,
   "id": "078dbaea",
   "metadata": {},
   "outputs": [
    {
     "name": "stdout",
     "output_type": "stream",
     "text": [
      "not same\n",
      "50k\n",
      "70k\n"
     ]
    }
   ],
   "source": [
    "class company():\n",
    "    def __init__(self):\n",
    "        self.id= 1\n",
    "        self.salary='50k'\n",
    "    def update(self):\n",
    "        self.salary='70k'\n",
    "    def emp(self,other):\n",
    "        if self.salary == other.salary:\n",
    "            return True\n",
    "        else:\n",
    "            return False\n",
    "        \n",
    "        \n",
    "c = company()\n",
    "c1 = company()\n",
    "\n",
    "c1.update()\n",
    "\n",
    "if c.emp(c1):\n",
    "    print(\"same\")\n",
    "else:\n",
    "    print(\"not same\")\n",
    "    \n",
    "print(c.salary)\n",
    "print(c1.salary)"
   ]
  },
  {
   "cell_type": "code",
   "execution_count": 28,
   "id": "08fc4a2d",
   "metadata": {},
   "outputs": [
    {
     "name": "stdout",
     "output_type": "stream",
     "text": [
      "20 bmw 4\n",
      "20 bmw 4\n"
     ]
    }
   ],
   "source": [
    "class car:\n",
    "    wheels = 4\n",
    "    \n",
    "    def __init__(self):\n",
    "        self.mil = 20\n",
    "        self.company = \"bmw\"\n",
    "        \n",
    "c1 = car()\n",
    "c2 = car()\n",
    "\n",
    "    \n",
    "print(c1.mil,c1.company,c1.wheels)\n",
    "print(c2.mil,c2.company,c2.wheels)"
   ]
  },
  {
   "cell_type": "code",
   "execution_count": 34,
   "id": "21d5c41b",
   "metadata": {},
   "outputs": [
    {
     "name": "stdout",
     "output_type": "stream",
     "text": [
      "80.0\n",
      "50.0\n"
     ]
    }
   ],
   "source": [
    "class college():\n",
    "    def __init__(self,m1,m2,m3):\n",
    "        self.m1=m1\n",
    "        self.m2=m2\n",
    "        self.m3=m3\n",
    "    def avg(self):\n",
    "        c = ((self.m1+self.m2+self.m3)/3\n",
    "        return c\n",
    "        \n",
    "        \n",
    "c1 = college(70,80,90)\n",
    "c2 = college(40,50,60)\n",
    "\n",
    "print(c1.avg())\n",
    "print(c2.avg())"
   ]
  },
  {
   "cell_type": "code",
   "execution_count": null,
   "id": "f2f61fc4",
   "metadata": {},
   "outputs": [],
   "source": [
    "class venu:\n",
    "    def __init__(self):\n",
    "        "
   ]
  },
  {
   "cell_type": "code",
   "execution_count": 3,
   "id": "cea8da4a",
   "metadata": {},
   "outputs": [
    {
     "ename": "SyntaxError",
     "evalue": "invalid syntax (3437683158.py, line 8)",
     "output_type": "error",
     "traceback": [
      "\u001b[1;36m  File \u001b[1;32m\"C:\\Users\\User\\AppData\\Local\\Temp\\ipykernel_3304\\3437683158.py\"\u001b[1;36m, line \u001b[1;32m8\u001b[0m\n\u001b[1;33m    return c\u001b[0m\n\u001b[1;37m    ^\u001b[0m\n\u001b[1;31mSyntaxError\u001b[0m\u001b[1;31m:\u001b[0m invalid syntax\n"
     ]
    }
   ],
   "source": [
    "class college():\n",
    "    def __init__(self,m1,m2,m3):\n",
    "        self.m1=m1\n",
    "        self.m2=m2\n",
    "        self.m3=m3\n",
    "    def avg(self):\n",
    "        c = ((self.m1+self.m2+self.m3)/3\n",
    "        return c\n",
    "    def get_m1(self):\n",
    "        return self.m1\n",
    "    def set_m1(self,value):\n",
    "        self.m1 = values\n",
    "        \n",
    "        \n",
    "c1 = college(70,80,90)\n",
    "c2 = college(40,50,60)\n",
    "\n",
    "print(c1.avg())\n",
    "print(c2.avg())\n",
    "print(c1.get_m1())"
   ]
  }
 ],
 "metadata": {
  "kernelspec": {
   "display_name": "Python 3 (ipykernel)",
   "language": "python",
   "name": "python3"
  },
  "language_info": {
   "codemirror_mode": {
    "name": "ipython",
    "version": 3
   },
   "file_extension": ".py",
   "mimetype": "text/x-python",
   "name": "python",
   "nbconvert_exporter": "python",
   "pygments_lexer": "ipython3",
   "version": "3.10.9"
  }
 },
 "nbformat": 4,
 "nbformat_minor": 5
}
