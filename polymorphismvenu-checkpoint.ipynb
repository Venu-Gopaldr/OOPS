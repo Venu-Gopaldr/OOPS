{
 "cells": [
  {
   "cell_type": "markdown",
   "id": "7eedb6a3",
   "metadata": {},
   "source": [
    "# polymorphism"
   ]
  },
  {
   "cell_type": "markdown",
   "id": "24abf701",
   "metadata": {},
   "source": [
    "1 DUCK TYPING \n",
    "2 OPERATOR OVERLOADING\n",
    "3 METHOD OVERLOADING\n",
    "4 METHOD OVERRIDING\n"
   ]
  },
  {
   "cell_type": "markdown",
   "id": "4f2a5733",
   "metadata": {},
   "source": [
    "# DUCK TYPING"
   ]
  },
  {
   "cell_type": "code",
   "execution_count": 2,
   "id": "25280726",
   "metadata": {},
   "outputs": [],
   "source": [
    "#dynamic type\n",
    "\n",
    "x = 5\n",
    "x = 'venu'\n",
    "\n"
   ]
  },
  {
   "cell_type": "markdown",
   "id": "4f44e718",
   "metadata": {},
   "source": [
    "IDE: Integrated Development Emvironment"
   ]
  },
  {
   "cell_type": "code",
   "execution_count": 11,
   "id": "dc4a16e4",
   "metadata": {},
   "outputs": [
    {
     "name": "stdout",
     "output_type": "stream",
     "text": [
      "spell check\n",
      "convention check\n",
      "compiling\n",
      "running\n",
      "compiling\n",
      "running\n"
     ]
    }
   ],
   "source": [
    "#interface\n",
    "\n",
    "class PyCharm:\n",
    "    \n",
    "    def Execute(self):\n",
    "        print(\"compiling\")\n",
    "        print(\"running\")\n",
    "        \n",
    "class MyEditor:\n",
    "    \n",
    "    def Execute(self):\n",
    "        print(\"spell check\")\n",
    "        print(\"convention check\")\n",
    "        print(\"compiling\")\n",
    "        print(\"running\")\n",
    "        \n",
    "class Laptop:\n",
    "    \n",
    "    def Code(self,ide):\n",
    "        ide.Execute()\n",
    "\n",
    "ide = MyEditor()\n",
    "\n",
    "lap1 = Laptop()\n",
    "lap1.Code(ide)\n",
    "\n",
    "ide = PyCharm()\n",
    "\n",
    "lap1 = Laptop()\n",
    "lap1.Code(ide)\n"
   ]
  },
  {
   "cell_type": "code",
   "execution_count": 14,
   "id": "62bd56f7",
   "metadata": {},
   "outputs": [
    {
     "data": {
      "text/plain": [
       "11"
      ]
     },
     "execution_count": 14,
     "metadata": {},
     "output_type": "execute_result"
    }
   ],
   "source": [
    "#operator loading\n",
    "\n",
    "a = 5\n",
    "b = 6\n",
    "\n",
    "#print(a + b)\n",
    "\n",
    "int.__add__(a,b)"
   ]
  },
  {
   "cell_type": "code",
   "execution_count": 15,
   "id": "a0031017",
   "metadata": {},
   "outputs": [
    {
     "name": "stdout",
     "output_type": "stream",
     "text": [
      "19\n",
      "1\n",
      "90\n",
      "(1, 1)\n"
     ]
    }
   ],
   "source": [
    "a = 10\n",
    "b = 9\n",
    "\n",
    "print(int.__add__(a,b))\n",
    "print(int.__sub__(a,b))\n",
    "print(int.__mul__(a,b))\n",
    "print(int.__divmod__(a,b))"
   ]
  },
  {
   "cell_type": "code",
   "execution_count": 19,
   "id": "8fb045b7",
   "metadata": {},
   "outputs": [
    {
     "name": "stdout",
     "output_type": "stream",
     "text": [
      "10a\n"
     ]
    }
   ],
   "source": [
    "a = \"10\"\n",
    "b = \"a\"\n",
    "\n",
    "print(str.__add__(a,b))  #magical methods"
   ]
  },
  {
   "cell_type": "code",
   "execution_count": 22,
   "id": "8129be08",
   "metadata": {},
   "outputs": [
    {
     "ename": "TypeError",
     "evalue": "unsupported operand type(s) for +: 'student' and 'student'",
     "output_type": "error",
     "traceback": [
      "\u001b[1;31m---------------------------------------------------------------------------\u001b[0m",
      "\u001b[1;31mTypeError\u001b[0m                                 Traceback (most recent call last)",
      "\u001b[1;32m~\\AppData\\Local\\Temp\\ipykernel_8844\\4286452442.py\u001b[0m in \u001b[0;36m<module>\u001b[1;34m\u001b[0m\n\u001b[0;32m      8\u001b[0m \u001b[0mst2\u001b[0m \u001b[1;33m=\u001b[0m \u001b[0mstudent\u001b[0m\u001b[1;33m(\u001b[0m\u001b[1;36m20\u001b[0m\u001b[1;33m,\u001b[0m\u001b[1;36m30\u001b[0m\u001b[1;33m)\u001b[0m\u001b[1;33m\u001b[0m\u001b[1;33m\u001b[0m\u001b[0m\n\u001b[0;32m      9\u001b[0m \u001b[1;33m\u001b[0m\u001b[0m\n\u001b[1;32m---> 10\u001b[1;33m \u001b[0ms3\u001b[0m \u001b[1;33m=\u001b[0m \u001b[0mst1\u001b[0m \u001b[1;33m+\u001b[0m \u001b[0mst2\u001b[0m\u001b[1;33m\u001b[0m\u001b[1;33m\u001b[0m\u001b[0m\n\u001b[0m",
      "\u001b[1;31mTypeError\u001b[0m: unsupported operand type(s) for +: 'student' and 'student'"
     ]
    }
   ],
   "source": [
    "class student:\n",
    "    \n",
    "    def __init__(self,m1,m2):\n",
    "        self.m1=m1\n",
    "        self.m2=m2\n",
    "        \n",
    "st1 = student(10,20)\n",
    "st2 = student(20,30)\n",
    "\n",
    "s3 = st1 + st2"
   ]
  },
  {
   "cell_type": "code",
   "execution_count": null,
   "id": "9e3a2445",
   "metadata": {},
   "outputs": [],
   "source": [
    "class student:\n",
    "    \n",
    "    def __init__(self,m1,m2):\n",
    "        self.m1=m1\n",
    "        self.m2=m2\n",
    "        \n",
    "    def __add__(self,other):\n",
    "        m1 = self.m1+other.m1\n",
    "        m2 = self.m2+other.m2\n",
    "        s3 = student(m1,m2)\n",
    "        return s3\n",
    "    \n",
    "    def __gt__(self,other):\n",
    "        r1 = self.m1 + self.m2\n",
    "        r2 = other.m1 + other.m2\n",
    "        if r1 > r2:\n",
    "            return True\n",
    "        else:\n",
    "            return False\n",
    "        \n",
    "    def __str__(self):\n",
    "        return '{}{}'.format(self.m1,self.m2)\n",
    "    \n",
    "st1 = student(10,20)\n",
    "st2 = student(20,30)"
   ]
  }
 ],
 "metadata": {
  "kernelspec": {
   "display_name": "Python 3 (ipykernel)",
   "language": "python",
   "name": "python3"
  },
  "language_info": {
   "codemirror_mode": {
    "name": "ipython",
    "version": 3
   },
   "file_extension": ".py",
   "mimetype": "text/x-python",
   "name": "python",
   "nbconvert_exporter": "python",
   "pygments_lexer": "ipython3",
   "version": "3.9.13"
  }
 },
 "nbformat": 4,
 "nbformat_minor": 5
}
