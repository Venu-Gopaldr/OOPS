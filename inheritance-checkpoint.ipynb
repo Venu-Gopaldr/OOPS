{
 "cells": [
  {
   "cell_type": "markdown",
   "id": "c654169e",
   "metadata": {},
   "source": [
    "# inheritance"
   ]
  },
  {
   "cell_type": "markdown",
   "id": "1084b7a8",
   "metadata": {},
   "source": [
    "single inheritance\n",
    "mutilevel inheritance\n",
    "multiple inheritance"
   ]
  },
  {
   "cell_type": "code",
   "execution_count": 4,
   "id": "e6df5a23",
   "metadata": {},
   "outputs": [
    {
     "name": "stdout",
     "output_type": "stream",
     "text": [
      "f1 is  working\n",
      "f2 is working\n"
     ]
    }
   ],
   "source": [
    "class A:\n",
    "    def f1(self):\n",
    "        print(\"f1 is  working\")\n",
    "    def f2(self):\n",
    "        print(\"f2 is working\")\n",
    "\n",
    "o = A()\n",
    "o.f1()\n",
    "o.f2()"
   ]
  },
  {
   "cell_type": "code",
   "execution_count": 3,
   "id": "ee3d0dbe",
   "metadata": {},
   "outputs": [
    {
     "name": "stdout",
     "output_type": "stream",
     "text": [
      "f1 is working\n",
      "f2 is working\n",
      "f3 is working\n",
      "f4 is working\n"
     ]
    }
   ],
   "source": [
    "class A:         #single inheritance\n",
    "    def f1(self):\n",
    "        print(\"f1 is working\")\n",
    "    def f2(self):\n",
    "        print(\"f2 is working\")\n",
    "        \n",
    "class B(A):\n",
    "    \n",
    "    def f3(self):\n",
    "        print(\"f3 is working\")\n",
    "    def f4(self):\n",
    "        print(\"f4 is working\")\n",
    "        \n",
    "o1=B()\n",
    "o1.f1()\n",
    "o1.f2()\n",
    "o1.f3()\n",
    "o1.f4()"
   ]
  },
  {
   "cell_type": "code",
   "execution_count": 6,
   "id": "7cc136ff",
   "metadata": {},
   "outputs": [
    {
     "name": "stdout",
     "output_type": "stream",
     "text": [
      "f1 is working\n",
      "f2 is working\n",
      "f3 is working\n",
      "f4 is working\n",
      "f5 is working\n"
     ]
    }
   ],
   "source": [
    "class A:         #multilevel inheritance\n",
    "    def f1(self):\n",
    "        print(\"f1 is working\")\n",
    "        \n",
    "    def f2(self):\n",
    "        print(\"f2 is working\")\n",
    "        \n",
    "class B(A):\n",
    "    \n",
    "    def f3(self):\n",
    "        print(\"f3 is working\")\n",
    "    def f4(self):\n",
    "        print(\"f4 is working\")\n",
    "        \n",
    "class C(B):\n",
    "    def f5(self):\n",
    "        print(\"f5 is working\")\n",
    "\n",
    "o1=C()\n",
    "o1.f1()\n",
    "o1.f2()\n",
    "o1.f3()\n",
    "o1.f4()\n",
    "o1.f5()"
   ]
  },
  {
   "cell_type": "code",
   "execution_count": 8,
   "id": "082e5384",
   "metadata": {},
   "outputs": [
    {
     "name": "stdout",
     "output_type": "stream",
     "text": [
      "class B init\n",
      "class C init\n"
     ]
    }
   ],
   "source": [
    "class A:         #multilevel inheritance\n",
    "    def __init__(self):\n",
    "        print(\"class A init\")\n",
    "    def f1(self):\n",
    "        print(\"f1 is working\")\n",
    "        \n",
    "    def f2(self):\n",
    "        print(\"f2 is working\")\n",
    "        \n",
    "class B(A):\n",
    "    def __init__(self):\n",
    "        print(\"class B init\")\n",
    "    \n",
    "    def f3(self):\n",
    "        print(\"f3 is working\")\n",
    "    def f4(self):\n",
    "        print(\"f4 is working\")\n",
    "        \n",
    "class C(B):\n",
    "    def __init__(self):\n",
    "        super().__init__()\n",
    "        print(\"class C init\")\n",
    "    def f5(self):\n",
    "        print(\"f5 is working\")\n",
    "\n",
    "o1=C()\n"
   ]
  },
  {
   "cell_type": "code",
   "execution_count": 12,
   "id": "39256bb5",
   "metadata": {},
   "outputs": [
    {
     "name": "stdout",
     "output_type": "stream",
     "text": [
      "class A init\n",
      "class B init\n",
      "class C init\n"
     ]
    }
   ],
   "source": [
    "class A:         #multilevel inheritance\n",
    "    def __init__(self):\n",
    "        print(\"class A init\")\n",
    "    def f1(self):\n",
    "        print(\"f1 is working\")\n",
    "        \n",
    "    def f2(self):\n",
    "        print(\"f2 is working\")\n",
    "        \n",
    "class B(A):\n",
    "    def __init__(self):\n",
    "        super().__init__()\n",
    "        print(\"class B init\")\n",
    "    \n",
    "    def f3(self):\n",
    "        print(\"f3 is working\")\n",
    "    def f4(self):\n",
    "        print(\"f4 is working\")\n",
    "        \n",
    "class C(B):\n",
    "    def __init__(self):\n",
    "        super().__init__()\n",
    "        print(\"class C init\")\n",
    "    def f5(self):\n",
    "        print(\"f5 is working\")\n",
    "\n",
    "o1=C()\n"
   ]
  },
  {
   "cell_type": "code",
   "execution_count": 13,
   "id": "ed9807ba",
   "metadata": {},
   "outputs": [
    {
     "name": "stdout",
     "output_type": "stream",
     "text": [
      "class A init\n",
      "class C init\n"
     ]
    }
   ],
   "source": [
    "class A:         \n",
    "    def __init__(self):\n",
    "        print(\"class A init\")\n",
    "    def f1(self):\n",
    "        print(\"f1 is working\")\n",
    "        \n",
    "    def f2(self):\n",
    "        print(\"f2 is working\")\n",
    "        \n",
    "class B:\n",
    "    def __init__(self):\n",
    "        print(\"class B init\")\n",
    "    \n",
    "    def f3(self):\n",
    "        print(\"f3 is working\")\n",
    "    def f4(self):\n",
    "        print(\"f4 is working\")\n",
    "        \n",
    "class C(A,B):\n",
    "    def __init__(self):\n",
    "        super().__init__()\n",
    "        print(\"class C init\")\n",
    "    def f5(self):\n",
    "        print(\"f5 is working\")\n",
    "\n",
    "o1=C()\n"
   ]
  },
  {
   "cell_type": "code",
   "execution_count": 14,
   "id": "2482f210",
   "metadata": {},
   "outputs": [
    {
     "name": "stdout",
     "output_type": "stream",
     "text": [
      "f1 is working\n",
      "f2 is working\n",
      "f3 is working\n",
      "f4 is working\n",
      "f5 is working\n"
     ]
    }
   ],
   "source": [
    "class A:         #multiple inheritance\n",
    "    def f1(self):\n",
    "        print(\"f1 is working\")\n",
    "        \n",
    "    def f2(self):\n",
    "        print(\"f2 is working\")\n",
    "        \n",
    "class B:\n",
    "    \n",
    "    def f3(self):\n",
    "        print(\"f3 is working\")\n",
    "    def f4(self):\n",
    "        print(\"f4 is working\")\n",
    "        \n",
    "class C(A,B):\n",
    "    def f5(self):\n",
    "        print(\"f5 is working\")\n",
    "\n",
    "o1=C()\n",
    "o1.f1()\n",
    "o1.f2()\n",
    "o1.f3()\n",
    "o1.f4()\n",
    "o1.f5()"
   ]
  }
 ],
 "metadata": {
  "kernelspec": {
   "display_name": "Python 3 (ipykernel)",
   "language": "python",
   "name": "python3"
  },
  "language_info": {
   "codemirror_mode": {
    "name": "ipython",
    "version": 3
   },
   "file_extension": ".py",
   "mimetype": "text/x-python",
   "name": "python",
   "nbconvert_exporter": "python",
   "pygments_lexer": "ipython3",
   "version": "3.10.9"
  }
 },
 "nbformat": 4,
 "nbformat_minor": 5
}
